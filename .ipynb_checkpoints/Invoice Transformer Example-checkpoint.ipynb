{
 "cells": [
  {
   "cell_type": "code",
   "execution_count": 1,
   "id": "b263d697",
   "metadata": {},
   "outputs": [],
   "source": [
    "from abc import ABC, abstractmethod\n",
    "import uuid\n",
    "import json\n",
    "from itertools import groupby\n",
    "from operator import itemgetter"
   ]
  },
  {
   "cell_type": "code",
   "execution_count": 2,
   "id": "e4b0a6a8",
   "metadata": {},
   "outputs": [],
   "source": [
    "class TransformationStrategy(ABC):\n",
    "    \n",
    "    @abstractmethod\n",
    "    def transform(self, timesheet):\n",
    "        pass\n",
    "    \n",
    "    @staticmethod\n",
    "    def generate_unique_id():\n",
    "        return uuid.uuid4()\n"
   ]
  },
  {
   "cell_type": "code",
   "execution_count": 3,
   "id": "00542a96",
   "metadata": {},
   "outputs": [],
   "source": [
    "class GroupByWellStrategy(TransformationStrategy):\n",
    "    def transform(self, timesheet):\n",
    "        grouped_line_items = {}\n",
    "        \n",
    "        for key, group in groupby(timesheet['lineItems'], key=itemgetter('well')):\n",
    "            grouped_line_items[key] = sum(item['amount'] for item in group)\n",
    "\n",
    "        aggregated_timesheet = {\n",
    "            'id': str(self.__class__.generate_unique_id()),\n",
    "            'timesheet': timesheet['timesheetId'],\n",
    "            'line_items': grouped_line_items\n",
    "        }\n",
    "                       \n",
    "        return aggregated_timesheet\n"
   ]
  },
  {
   "cell_type": "code",
   "execution_count": 4,
   "id": "12f387af",
   "metadata": {},
   "outputs": [],
   "source": [
    "# groupByWellStrategy = GroupByWellStrategy()\n",
    "# output_data = groupByWellStrategy.transform(data[0])\n",
    "# print(json.dumps(output_data, indent=2))"
   ]
  },
  {
   "cell_type": "code",
   "execution_count": 5,
   "id": "976b8267",
   "metadata": {},
   "outputs": [],
   "source": [
    "class MergeToOneLineItemStrategy(TransformationStrategy):\n",
    "    def transform(self, timesheet):\n",
    "        transformed_timesheets = []\n",
    "        \n",
    "        total_amount = 0\n",
    "        \n",
    "        for line_item in timesheet['lineItems']:\n",
    "            total_amount += line_item['amount']\n",
    "            \n",
    "        return {\n",
    "            'id': str(GroupByWellStrategy.generate_unique_id()),\n",
    "            'timesheetId': timesheet['timesheetId'],\n",
    "            'totalAmount': total_amount\n",
    "        }\n"
   ]
  },
  {
   "cell_type": "code",
   "execution_count": 6,
   "id": "4bf8fee1",
   "metadata": {},
   "outputs": [],
   "source": [
    "# mergeToOneLineItemStrategy = MergeToOneLineItemStrategy()\n",
    "# output_data = mergeToOneLineItemStrategy.transform(data[0])\n",
    "# print(json.dumps(output_data, indent=2))"
   ]
  },
  {
   "cell_type": "code",
   "execution_count": 7,
   "id": "86760ec4",
   "metadata": {},
   "outputs": [],
   "source": [
    "class InvoicePerLineItemStrategy(TransformationStrategy):\n",
    "    def transform(self, timesheet):\n",
    "        transformed_timesheets = []\n",
    "        \n",
    "        total_amount = 0\n",
    "        \n",
    "        for line_item in timesheet['lineItems']: \n",
    "            transformed_timesheets.append({\n",
    "                'id': str(GroupByWellStrategy.generate_unique_id()),\n",
    "                'timesheetId': timesheet['timesheetId'],\n",
    "                'well': line_item['well'],\n",
    "                'totalAmount': line_item['amount']\n",
    "            })\n",
    "            \n",
    "        return transformed_timesheets\n",
    "    "
   ]
  },
  {
   "cell_type": "code",
   "execution_count": 8,
   "id": "ac37004a",
   "metadata": {},
   "outputs": [
    {
     "ename": "NameError",
     "evalue": "name 'mergeToOneLineItemStrategy' is not defined",
     "output_type": "error",
     "traceback": [
      "\u001b[0;31m---------------------------------------------------------------------------\u001b[0m",
      "\u001b[0;31mNameError\u001b[0m                                 Traceback (most recent call last)",
      "Cell \u001b[0;32mIn[8], line 2\u001b[0m\n\u001b[1;32m      1\u001b[0m invoicePerLineItemStrategy \u001b[38;5;241m=\u001b[39m InvoicePerLineItemStrategy()\n\u001b[0;32m----> 2\u001b[0m output_data \u001b[38;5;241m=\u001b[39m mergeToOneLineItemStrategy\u001b[38;5;241m.\u001b[39mtransform(data[\u001b[38;5;241m0\u001b[39m])\n\u001b[1;32m      3\u001b[0m \u001b[38;5;28mprint\u001b[39m(json\u001b[38;5;241m.\u001b[39mdumps(output_data, indent\u001b[38;5;241m=\u001b[39m\u001b[38;5;241m2\u001b[39m))\n",
      "\u001b[0;31mNameError\u001b[0m: name 'mergeToOneLineItemStrategy' is not defined"
     ]
    }
   ],
   "source": [
    "invoicePerLineItemStrategy = InvoicePerLineItemStrategy()\n",
    "output_data = mergeToOneLineItemStrategy.transform(data[0])\n",
    "print(json.dumps(output_data, indent=2))"
   ]
  },
  {
   "cell_type": "code",
   "execution_count": null,
   "id": "9c5b5a6d",
   "metadata": {},
   "outputs": [],
   "source": [
    "from enum import Enum\n",
    "\n",
    "class LineItemStrategy(Enum):\n",
    "    GROUPBY_WELL_STRATEGY = 1\n",
    "    MERGE_TO_ONE_LINE_ITEM = 2\n",
    "    INVOICE_PER_LINE_ITEM = 3\n",
    "\n",
    "enum_dict = {\n",
    "    LineItemStrategy.GROUPBY_WELL_STRATEGY: GroupByWellStrategy(), \n",
    "    LineItemStrategy.MERGE_TO_ONE_LINE_ITEM: MergeToOneLineItemStrategy(), \n",
    "    LineItemStrategy.INVOICE_PER_LINE_ITEM: InvoicePerLineItemStrategy()\n",
    "#   other more complicated strategy such as 1 invoice per month (includes line items for all workers)\n",
    "}\n",
    "\n",
    "# \n",
    "client_dict = {\n",
    "    \"client-01\": LineItemStrategy.GROUPBY_WELL_STRATEGY,\n",
    "    \"client-02\": LineItemStrategy.MERGE_TO_ONE_LINE_ITEM,\n",
    "    \"client-03\": LineItemStrategy.INVOICE_PER_LINE_ITEM\n",
    "    \n",
    "}\n"
   ]
  },
  {
   "cell_type": "code",
   "execution_count": null,
   "id": "a2273bbe",
   "metadata": {},
   "outputs": [],
   "source": [
    "# invoice engine\n",
    "\n",
    "with open('timesheets.json', 'r') as file:\n",
    "    data = json.load(file)\n",
    "\n",
    "for timesheet in data:\n",
    "    client_id = timesheet['clientId']\n",
    "    stratgy_enum = client_dict[client_id]\n",
    "    strategy = enum_dict[stratgy_enum]\n",
    "    result = strategy.transform(timesheet)\n",
    "    \n",
    "    print('_'*50)\n",
    "    print()\n",
    "    print(json.dumps(result, indent=1))\n",
    "    print()\n",
    "print('_'*50)"
   ]
  },
  {
   "cell_type": "code",
   "execution_count": null,
   "id": "ce4d68bc",
   "metadata": {},
   "outputs": [],
   "source": []
  }
 ],
 "metadata": {
  "kernelspec": {
   "display_name": "Python 3 (ipykernel)",
   "language": "python",
   "name": "python3"
  },
  "language_info": {
   "codemirror_mode": {
    "name": "ipython",
    "version": 3
   },
   "file_extension": ".py",
   "mimetype": "text/x-python",
   "name": "python",
   "nbconvert_exporter": "python",
   "pygments_lexer": "ipython3",
   "version": "3.11.5"
  }
 },
 "nbformat": 4,
 "nbformat_minor": 5
}
