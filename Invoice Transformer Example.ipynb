{
 "cells": [
  {
   "cell_type": "code",
   "execution_count": 34,
   "id": "b263d697",
   "metadata": {},
   "outputs": [],
   "source": [
    "from abc import ABC, abstractmethod\n",
    "import uuid\n",
    "import json\n",
    "from itertools import groupby\n",
    "from operator import itemgetter"
   ]
  },
  {
   "cell_type": "markdown",
   "id": "daccf2d0",
   "metadata": {},
   "source": [
    "lin"
   ]
  },
  {
   "cell_type": "code",
   "execution_count": 35,
   "id": "e4b0a6a8",
   "metadata": {},
   "outputs": [],
   "source": [
    "class TransformationStrategy(ABC):\n",
    "    \n",
    "    @abstractmethod\n",
    "    def transform(self, timesheet):\n",
    "        pass\n",
    "    \n",
    "    @staticmethod\n",
    "    def generate_unique_id():\n",
    "        return uuid.uuid4()\n"
   ]
  },
  {
   "cell_type": "code",
   "execution_count": 36,
   "id": "00542a96",
   "metadata": {},
   "outputs": [],
   "source": [
    "class GroupByWellStrategy(TransformationStrategy):\n",
    "    def transform(self, timesheet):\n",
    "        grouped_line_items = {}\n",
    "        \n",
    "        for key, group in groupby(timesheet['lineItems'], key=itemgetter('well')):\n",
    "            grouped_line_items[key] = sum(item['amount'] for item in group)\n",
    "\n",
    "        aggregated_timesheet = {\n",
    "            'id': str(self.__class__.generate_unique_id()),\n",
    "            'timesheet': timesheet['timesheetId'],\n",
    "            'line_items': grouped_line_items\n",
    "        }\n",
    "                       \n",
    "        return aggregated_timesheet\n"
   ]
  },
  {
   "cell_type": "code",
   "execution_count": 37,
   "id": "12f387af",
   "metadata": {},
   "outputs": [],
   "source": [
    "# groupByWellStrategy = GroupByWellStrategy()\n",
    "# output_data = groupByWellStrategy.transform(data[0])\n",
    "# print(json.dumps(output_data, indent=2))"
   ]
  },
  {
   "cell_type": "code",
   "execution_count": 38,
   "id": "976b8267",
   "metadata": {},
   "outputs": [],
   "source": [
    "class MergeToOneLineItemStrategy(TransformationStrategy):\n",
    "    def transform(self, timesheet):\n",
    "        transformed_timesheets = []\n",
    "        \n",
    "        total_amount = 0\n",
    "        \n",
    "        for line_item in timesheet['lineItems']:\n",
    "            total_amount += line_item['amount']\n",
    "            \n",
    "        return {\n",
    "            'id': str(GroupByWellStrategy.generate_unique_id()),\n",
    "            'timesheetId': timesheet['timesheetId'],\n",
    "            'totalAmount': total_amount\n",
    "        }\n"
   ]
  },
  {
   "cell_type": "code",
   "execution_count": 39,
   "id": "4bf8fee1",
   "metadata": {},
   "outputs": [],
   "source": [
    "# mergeToOneLineItemStrategy = MergeToOneLineItemStrategy()\n",
    "# output_data = mergeToOneLineItemStrategy.transform(data[0])\n",
    "# print(json.dumps(output_data, indent=2))"
   ]
  },
  {
   "cell_type": "code",
   "execution_count": 40,
   "id": "86760ec4",
   "metadata": {},
   "outputs": [],
   "source": [
    "class InvoicePerLineItemStrategy(TransformationStrategy):\n",
    "    def transform(self, timesheet):\n",
    "        transformed_timesheets = []\n",
    "        \n",
    "        total_amount = 0\n",
    "        \n",
    "        for line_item in timesheet['lineItems']: \n",
    "            transformed_timesheets.append({\n",
    "                'id': str(GroupByWellStrategy.generate_unique_id()),\n",
    "                'timesheetId': timesheet['timesheetId'],\n",
    "                'well': line_item['well'],\n",
    "                'totalAmount': line_item['amount']\n",
    "            })\n",
    "            \n",
    "        return transformed_timesheets\n",
    "    "
   ]
  },
  {
   "cell_type": "code",
   "execution_count": 41,
   "id": "ac37004a",
   "metadata": {},
   "outputs": [],
   "source": [
    "# mergeToOneLineItemStrategy = InvoicePerLineItemStrategy()\n",
    "# output_data = mergeToOneLineItemStrategy.transform(data[0])\n",
    "# print(json.dumps(output_data, indent=2))"
   ]
  },
  {
   "cell_type": "code",
   "execution_count": 42,
   "id": "9c5b5a6d",
   "metadata": {},
   "outputs": [],
   "source": [
    "from enum import Enum\n",
    "\n",
    "class LineItemStrategy(Enum):\n",
    "    GROUPBY_WELL_STRATEGY = 1\n",
    "    MERGE_TO_ONE_LINE_ITEM = 2\n",
    "    INVOICE_PER_LINE_ITEM = 3\n",
    "\n",
    "enum_dict = {\n",
    "    LineItemStrategy.GROUPBY_WELL_STRATEGY: GroupByWellStrategy(), \n",
    "    LineItemStrategy.MERGE_TO_ONE_LINE_ITEM: MergeToOneLineItemStrategy(), \n",
    "    LineItemStrategy.INVOICE_PER_LINE_ITEM: InvoicePerLineItemStrategy()\n",
    "#   other more complicated strategy such as 1 invoice per month (includes line items for all workers)\n",
    "}\n",
    "\n",
    "# assume this is retrieved from database\n",
    "client_dict = {\n",
    "    \"client-01\": LineItemStrategy.GROUPBY_WELL_STRATEGY,\n",
    "    \"client-02\": LineItemStrategy.MERGE_TO_ONE_LINE_ITEM,\n",
    "    \"client-03\": LineItemStrategy.INVOICE_PER_LINE_ITEM\n",
    "    \n",
    "}\n"
   ]
  },
  {
   "cell_type": "code",
   "execution_count": 43,
   "id": "a2273bbe",
   "metadata": {},
   "outputs": [
    {
     "name": "stdout",
     "output_type": "stream",
     "text": [
      "__________________________________________________\n",
      "\n",
      "{\n",
      " \"id\": \"e11744e9-005e-4d84-bdeb-d72a6c6b2a21\",\n",
      " \"timesheet\": \"TS001\",\n",
      " \"line_items\": {\n",
      "  \"Well-01\": 4651.25,\n",
      "  \"Well-02\": 3525.75,\n",
      "  \"Well-03\": 2775.75,\n",
      "  \"Well-04\": 1550.25\n",
      " }\n",
      "}\n",
      "\n",
      "__________________________________________________\n",
      "\n",
      "{\n",
      " \"id\": \"7f608efe-38ae-42d8-9c06-f6c2a8cb770c\",\n",
      " \"timesheetId\": \"TS002\",\n",
      " \"totalAmount\": 6526.5\n",
      "}\n",
      "\n",
      "__________________________________________________\n",
      "\n",
      "[\n",
      " {\n",
      "  \"id\": \"da3dca19-affb-4e95-9176-1102ccc78df8\",\n",
      "  \"timesheetId\": \"TS003\",\n",
      "  \"well\": \"Well-01\",\n",
      "  \"totalAmount\": 1000.0\n",
      " },\n",
      " {\n",
      "  \"id\": \"29ea44c8-ab10-46a3-824a-e47ee2795299\",\n",
      "  \"timesheetId\": \"TS003\",\n",
      "  \"well\": \"Well-01\",\n",
      "  \"totalAmount\": 1200.5\n",
      " },\n",
      " {\n",
      "  \"id\": \"a7bf973f-f16e-4c14-8614-b4cfcec0745c\",\n",
      "  \"timesheetId\": \"TS003\",\n",
      "  \"well\": \"Well-03\",\n",
      "  \"totalAmount\": 1325.75\n",
      " },\n",
      " {\n",
      "  \"id\": \"fe4a4ac0-1677-487e-86c7-d577e70da59a\",\n",
      "  \"timesheetId\": \"TS003\",\n",
      "  \"well\": \"Well-03\",\n",
      "  \"totalAmount\": 1450.0\n",
      " },\n",
      " {\n",
      "  \"id\": \"fa25fc1b-58d7-4671-a71e-d574d9379108\",\n",
      "  \"timesheetId\": \"TS003\",\n",
      "  \"well\": \"Well-06\",\n",
      "  \"totalAmount\": 1550.25\n",
      " }\n",
      "]\n",
      "\n",
      "__________________________________________________\n"
     ]
    }
   ],
   "source": [
    "with open('timesheets.json', 'r') as file:\n",
    "    data = json.load(file)\n",
    "\n",
    "for timesheet in data:\n",
    "    client_id = timesheet['clientId']\n",
    "    stratgy_enum = client_dict[client_id]\n",
    "    strategy = enum_dict[stratgy_enum]\n",
    "    result = strategy.transform(timesheet)\n",
    "    \n",
    "    print('_'*50)\n",
    "    print()\n",
    "    print(json.dumps(result, indent=1))\n",
    "    print()\n",
    "print('_'*50)"
   ]
  },
  {
   "cell_type": "code",
   "execution_count": null,
   "id": "ce4d68bc",
   "metadata": {},
   "outputs": [],
   "source": []
  }
 ],
 "metadata": {
  "kernelspec": {
   "display_name": "Python 3 (ipykernel)",
   "language": "python",
   "name": "python3"
  },
  "language_info": {
   "codemirror_mode": {
    "name": "ipython",
    "version": 3
   },
   "file_extension": ".py",
   "mimetype": "text/x-python",
   "name": "python",
   "nbconvert_exporter": "python",
   "pygments_lexer": "ipython3",
   "version": "3.11.5"
  }
 },
 "nbformat": 4,
 "nbformat_minor": 5
}
